{
 "cells": [
  {
   "cell_type": "code",
   "execution_count": 3,
   "id": "2a5498dd",
   "metadata": {},
   "outputs": [
    {
     "name": "stdout",
     "output_type": "stream",
     "text": [
      "Collecting opencv-pythonNote: you may need to restart the kernel to use updated packages.\n",
      "\n",
      "  Downloading opencv_python-4.9.0.80-cp37-abi3-win_amd64.whl (38.6 MB)\n",
      "     -------------------------------------- 38.6/38.6 MB 227.1 kB/s eta 0:00:00\n",
      "Requirement already satisfied: numpy>=1.17.3 in c:\\users\\zkyaf\\anaconda3\\lib\\site-packages (from opencv-python) (1.23.5)\n",
      "Installing collected packages: opencv-python\n",
      "Successfully installed opencv-python-4.9.0.80\n"
     ]
    }
   ],
   "source": [
    "pip install opencv-python"
   ]
  },
  {
   "cell_type": "code",
   "execution_count": 1,
   "id": "6b1fe9f9",
   "metadata": {},
   "outputs": [],
   "source": [
    "import pandas as pd\n",
    "import numpy as np\n",
    "import cv2"
   ]
  },
  {
   "cell_type": "code",
   "execution_count": 5,
   "id": "2ae644e6",
   "metadata": {},
   "outputs": [],
   "source": [
    "img=cv2.imread(\"C:\\\\Users\\\\zkyaf\\\\Downloads\\\\sky.jpeg\")"
   ]
  },
  {
   "cell_type": "code",
   "execution_count": 13,
   "id": "9cc4a3e2",
   "metadata": {},
   "outputs": [
    {
     "name": "stdout",
     "output_type": "stream",
     "text": [
      "<class 'numpy.ndarray'>\n"
     ]
    }
   ],
   "source": [
    "print(type(img))"
   ]
  },
  {
   "cell_type": "code",
   "execution_count": 14,
   "id": "d2059372",
   "metadata": {},
   "outputs": [
    {
     "data": {
      "text/plain": [
       "(1600, 1146, 3)"
      ]
     },
     "execution_count": 14,
     "metadata": {},
     "output_type": "execute_result"
    }
   ],
   "source": [
    "#shape of image\n",
    "img.shape"
   ]
  },
  {
   "cell_type": "code",
   "execution_count": 18,
   "id": "b092d6be",
   "metadata": {},
   "outputs": [
    {
     "data": {
      "text/plain": [
       "-1"
      ]
     },
     "execution_count": 18,
     "metadata": {},
     "output_type": "execute_result"
    }
   ],
   "source": [
    "#visualize an image\n",
    "cv2.imshow(\"window\",img)\n",
    "cv2.waitKey(0)"
   ]
  },
  {
   "cell_type": "code",
   "execution_count": 24,
   "id": "8da52dd7",
   "metadata": {},
   "outputs": [],
   "source": [
    "#convert the colour of image\n",
    "img_gray=cv2.cvtColor(img,cv2.COLOR_BGR2GRAY)"
   ]
  },
  {
   "cell_type": "code",
   "execution_count": 25,
   "id": "72ee6612",
   "metadata": {},
   "outputs": [
    {
     "data": {
      "text/plain": [
       "-1"
      ]
     },
     "execution_count": 25,
     "metadata": {},
     "output_type": "execute_result"
    }
   ],
   "source": [
    "cv2.imshow(\"window\",img_gray)\n",
    "cv2.waitKey(0)"
   ]
  },
  {
   "cell_type": "code",
   "execution_count": 26,
   "id": "29367c9a",
   "metadata": {},
   "outputs": [
    {
     "data": {
      "text/plain": [
       "(1600, 1146)"
      ]
     },
     "execution_count": 26,
     "metadata": {},
     "output_type": "execute_result"
    }
   ],
   "source": [
    "img_gray.shape"
   ]
  },
  {
   "cell_type": "code",
   "execution_count": 29,
   "id": "7ba4dad1",
   "metadata": {},
   "outputs": [],
   "source": [
    "img_blue=img_gray[:,0]\n",
    "img_green=img_gray[:,1]\n",
    "img_red=img_gray[:,2]"
   ]
  },
  {
   "cell_type": "code",
   "execution_count": 31,
   "id": "e90887c1",
   "metadata": {},
   "outputs": [],
   "source": [
    "new_img=np.hstack((img_blue,img_green,img_red))"
   ]
  },
  {
   "cell_type": "code",
   "execution_count": 33,
   "id": "382c7f4d",
   "metadata": {},
   "outputs": [
    {
     "data": {
      "text/plain": [
       "-1"
      ]
     },
     "execution_count": 33,
     "metadata": {},
     "output_type": "execute_result"
    }
   ],
   "source": [
    "cv2.imshow(\"window\",new_img)\n",
    "cv2.waitKey(0)"
   ]
  },
  {
   "cell_type": "code",
   "execution_count": 46,
   "id": "a7ebe7cc",
   "metadata": {},
   "outputs": [],
   "source": [
    "#resizing an image\n",
    "img_resize=cv2.resize(img,(256,256))"
   ]
  },
  {
   "cell_type": "code",
   "execution_count": 47,
   "id": "2ad6910c",
   "metadata": {},
   "outputs": [
    {
     "data": {
      "text/plain": [
       "-1"
      ]
     },
     "execution_count": 47,
     "metadata": {},
     "output_type": "execute_result"
    }
   ],
   "source": [
    "cv2.imshow(\"window\",img_resize)\n",
    "cv2.waitKey(0)"
   ]
  },
  {
   "cell_type": "code",
   "execution_count": 51,
   "id": "38319bc4",
   "metadata": {},
   "outputs": [
    {
     "data": {
      "text/plain": [
       "-1"
      ]
     },
     "execution_count": 51,
     "metadata": {},
     "output_type": "execute_result"
    }
   ],
   "source": [
    "#flipping an image\n",
    "img_flip=cv2.flip(img_resize,-1)\n",
    "cv2.imshow(\"window\",img_flip)\n",
    "cv2.waitKey(0)"
   ]
  },
  {
   "cell_type": "code",
   "execution_count": 53,
   "id": "61bab7ca",
   "metadata": {},
   "outputs": [
    {
     "data": {
      "text/plain": [
       "-1"
      ]
     },
     "execution_count": 53,
     "metadata": {},
     "output_type": "execute_result"
    }
   ],
   "source": [
    "#crop the image\n",
    "img_crop=img[100:500,200:500]\n",
    "cv2.imshow(\"window\",img_crop)\n",
    "cv2.waitKey(0)"
   ]
  },
  {
   "cell_type": "code",
   "execution_count": 6,
   "id": "6fb3ae9e",
   "metadata": {},
   "outputs": [],
   "source": [
    "#save an image\n",
    "#cv2.imwrite(\"black and white sky.png\",img_gray)"
   ]
  },
  {
   "cell_type": "code",
   "execution_count": 2,
   "id": "e019b78a",
   "metadata": {},
   "outputs": [],
   "source": [
    "#creating my own IMAGE using numpy\n",
    "imgg=np.zeros((512,512,3))"
   ]
  },
  {
   "cell_type": "code",
   "execution_count": 25,
   "id": "0f73781c",
   "metadata": {},
   "outputs": [
    {
     "data": {
      "text/plain": [
       "-1"
      ]
     },
     "execution_count": 25,
     "metadata": {},
     "output_type": "execute_result"
    }
   ],
   "source": [
    "#Draw rectangle, circle, line, and write some text on image AMAZINGGG\n",
    "\n",
    "cv2.rectangle(imgg,pt1=(100,100),pt2=(250,250),color=(255,0,0),thickness=3)\n",
    "\n",
    "cv2.circle(imgg,center=(100,400),radius=100,color=(0,255,0),thickness=3)\n",
    "\n",
    "cv2.line(imgg,pt1=(0,0),pt2=(512,512),color=(0,0,255),thickness=2)\n",
    "\n",
    "cv2.putText(imgg,org=(100,100),fontScale=4,color=(0,255,255),thickness=2,\n",
    "            text=\"hello world\",fontFace=cv2.FONT_ITALIC)\n",
    "cv2.imshow(\"window\",imgg)\n",
    "cv2.waitKey(0)"
   ]
  },
  {
   "cell_type": "markdown",
   "id": "1719202f",
   "metadata": {},
   "source": [
    "there are 3 types in mouseEvents:->\n",
    "\n",
    "1 is for CLICK\n",
    "\n",
    "0 is for DRAG\n",
    "\n",
    "4 is for RELEASE"
   ]
  },
  {
   "cell_type": "code",
   "execution_count": 14,
   "id": "18960839",
   "metadata": {},
   "outputs": [],
   "source": [
    "#create live interaction with image\n",
    "def draw(event,x,y,flags,params):\n",
    "    \n",
    "    if event==1:\n",
    "        cv2.circle(imgg,center=(x,y),radius=50,color=(0,255,0),thickness=-1)\n",
    "        \n",
    "cv2.namedWindow(winname=\"window\")\n",
    "cv2.setMouseCallback(\"window\",draw)\n",
    "\n",
    "\n",
    "while True:\n",
    "    cv2.imshow(\"window\",imgg)\n",
    "    \n",
    "    if cv2.waitKey(1) & 0xFF == ord(\"x\"):\n",
    "        break\n",
    "        \n",
    "cv2.destroyAllWindows()        "
   ]
  },
  {
   "cell_type": "code",
   "execution_count": 20,
   "id": "ee8c2b26",
   "metadata": {},
   "outputs": [],
   "source": [
    "#create live interaction with image\n",
    "\n",
    "flag=False\n",
    "ix=-1         #initial position of x\n",
    "iy=-1         #initial position of y\n",
    "    \n",
    "def draw(event,x,y,flags,params):\n",
    "    \n",
    "    global flag,ix,iy        #because we intialize flag,ix,iy ouside the function\n",
    "    \n",
    "    if event==1:\n",
    "        flag=True\n",
    "        ix=x\n",
    "        iy=y\n",
    "    \n",
    "    if event==0:\n",
    "        if flag==True:\n",
    "            cv2.rectangle(imgg,pt1=(ix,iy),pt2=(x,y),color=(0,0,255),thickness=-1)\n",
    "    \n",
    "    if event==4:\n",
    "        flag=False\n",
    "        cv2.rectangle(imgg,pt1=(ix,iy),pt2=(x,y),color=(0,0,255),thickness=-1)\n",
    "        \n",
    "cv2.namedWindow(winname=\"window\")\n",
    "cv2.setMouseCallback(\"window\",draw)\n",
    "\n",
    "\n",
    "while True:\n",
    "    cv2.imshow(\"window\",imgg)\n",
    "    \n",
    "    if cv2.waitKey(1) & 0xFF == ord(\"x\"):\n",
    "        break\n",
    "        \n",
    "cv2.destroyAllWindows()        "
   ]
  },
  {
   "cell_type": "markdown",
   "id": "d7953801",
   "metadata": {},
   "source": [
    "Try to create something like.....The image will be cropped as far as the mouse drags."
   ]
  },
  {
   "cell_type": "code",
   "execution_count": 21,
   "id": "29be5e11",
   "metadata": {},
   "outputs": [],
   "source": [
    "image=cv2.imread(\"C:\\\\Users\\\\zkyaf\\\\Downloads\\\\sky.jpeg\")\n",
    "image=cv2.resize(image,(256,256))"
   ]
  },
  {
   "cell_type": "code",
   "execution_count": 22,
   "id": "8c5c64f7",
   "metadata": {},
   "outputs": [],
   "source": [
    "flag=False\n",
    "ix=-1         #initial position of x\n",
    "iy=-1         #initial position of y\n",
    "    \n",
    "def draw(event,x,y,flags,params):\n",
    "    \n",
    "    global flag,ix,iy        #because we intialize flag,ix,iy ouside the function\n",
    "    \n",
    "    if event==1:\n",
    "        flag=True\n",
    "        ix=x\n",
    "        iy=y\n",
    "    \n",
    "    if event==4:\n",
    "        fx=x\n",
    "        fy=y\n",
    "        \n",
    "        flag=False\n",
    "        cv2.rectangle(image,pt1=(ix,iy),pt2=(x,y),color=(0,0,0),thickness=1)\n",
    "        #cropped\n",
    "        cropped=image[iy:fy,ix:fx]\n",
    "        cv2.imshow(\"new_window\",cropped)\n",
    "        cv2.waitKey(0)\n",
    "        \n",
    "cv2.namedWindow(winname=\"window\")\n",
    "cv2.setMouseCallback(\"window\",draw)\n",
    "\n",
    "while True:\n",
    "    cv2.imshow(\"window\",image)\n",
    "    \n",
    "    if cv2.waitKey(1) & 0xFF == ord(\"x\"):\n",
    "        break\n",
    "        \n",
    "cv2.destroyAllWindows()   "
   ]
  },
  {
   "cell_type": "code",
   "execution_count": null,
   "id": "8419500b",
   "metadata": {},
   "outputs": [],
   "source": []
  }
 ],
 "metadata": {
  "kernelspec": {
   "display_name": "Python 3 (ipykernel)",
   "language": "python",
   "name": "python3"
  },
  "language_info": {
   "codemirror_mode": {
    "name": "ipython",
    "version": 3
   },
   "file_extension": ".py",
   "mimetype": "text/x-python",
   "name": "python",
   "nbconvert_exporter": "python",
   "pygments_lexer": "ipython3",
   "version": "3.10.9"
  }
 },
 "nbformat": 4,
 "nbformat_minor": 5
}
