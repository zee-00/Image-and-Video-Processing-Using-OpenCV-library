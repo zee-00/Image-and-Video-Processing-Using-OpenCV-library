{
 "cells": [
  {
   "cell_type": "code",
   "execution_count": 1,
   "id": "af4b7a55",
   "metadata": {},
   "outputs": [],
   "source": [
    "import cv2"
   ]
  },
  {
   "cell_type": "code",
   "execution_count": 6,
   "id": "d543e4b5",
   "metadata": {},
   "outputs": [],
   "source": [
    "#data for face capturing\n",
    "face_cap=cv2.CascadeClassifier(\"C:\\\\Users\\\\zkyaf\\\\anaconda3\\\\Lib\\\\site-packages\\\\cv2\\\\\n",
    "                               data\\\\haarcascade_frontalface_default.xml\")\n",
    "#capture vdo\n",
    "vdo_cap=cv2.VideoCapture(0)\n",
    "\n",
    "while True:\n",
    "    ret, frame=vdo_cap.read()                         \n",
    "    \n",
    "    colour=cv2.cvtColor(frame,cv2.COLOR_BGR2GRAY)         #convert frame Blue Green Red(BGR) to GREY\n",
    "    \n",
    "    face=face_cap.detectMultiScale(                       #features of face detection\n",
    "        colour, \n",
    "        scaleFactor=1.1, \n",
    "        minNeighbors=5, \n",
    "        minSize=(30,30), \n",
    "        flags=cv2.CASCADE_SCALE_IMAGE\n",
    "    )\n",
    "    for (x,y,w,h) in face:\n",
    "        cv2.rectangle(frame, (x,y), (x+w,y+h), color=(0,0,255), thickness=2)      #adding rectangular bracket around the face\n",
    "    \n",
    "    cv2.imshow(\"webcam\",frame)                                                    #show the webcam\n",
    "    if cv2.waitKey(1) & 0xFF == ord(\"x\"):\n",
    "        break\n",
    "        \n",
    "vdo_cap.release()\n",
    "cv2.destroyAllWindows()"
   ]
  },
  {
   "cell_type": "code",
   "execution_count": null,
   "id": "1280abd4",
   "metadata": {},
   "outputs": [],
   "source": []
  }
 ],
 "metadata": {
  "kernelspec": {
   "display_name": "Python 3 (ipykernel)",
   "language": "python",
   "name": "python3"
  },
  "language_info": {
   "codemirror_mode": {
    "name": "ipython",
    "version": 3
   },
   "file_extension": ".py",
   "mimetype": "text/x-python",
   "name": "python",
   "nbconvert_exporter": "python",
   "pygments_lexer": "ipython3",
   "version": "3.10.9"
  }
 },
 "nbformat": 4,
 "nbformat_minor": 5
}
